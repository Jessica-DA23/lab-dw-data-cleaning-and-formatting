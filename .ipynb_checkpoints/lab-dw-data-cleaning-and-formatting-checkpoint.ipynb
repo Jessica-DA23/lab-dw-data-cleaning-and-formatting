{
 "cells": [
  {
   "cell_type": "markdown",
   "id": "25d7736c-ba17-4aff-b6bb-66eba20fbf4e",
   "metadata": {
    "id": "25d7736c-ba17-4aff-b6bb-66eba20fbf4e"
   },
   "source": [
    "# Lab | Data Cleaning and Formatting"
   ]
  },
  {
   "cell_type": "markdown",
   "id": "d1973e9e-8be6-4039-b70e-d73ee0d94c99",
   "metadata": {
    "id": "d1973e9e-8be6-4039-b70e-d73ee0d94c99"
   },
   "source": [
    "In this lab, we will be working with the customer data from an insurance company, which can be found in the CSV file located at the following link: https://raw.githubusercontent.com/data-bootcamp-v4/data/main/file1.csv\n"
   ]
  },
  {
   "cell_type": "markdown",
   "id": "31b8a9e7-7db9-4604-991b-ef6771603e57",
   "metadata": {
    "id": "31b8a9e7-7db9-4604-991b-ef6771603e57"
   },
   "source": [
    "# Challenge 1: Data Cleaning and Formatting"
   ]
  },
  {
   "cell_type": "markdown",
   "id": "81553f19-9f2c-484b-8940-520aff884022",
   "metadata": {
    "id": "81553f19-9f2c-484b-8940-520aff884022"
   },
   "source": [
    "## Exercise 1: Cleaning Column Names"
   ]
  },
  {
   "cell_type": "markdown",
   "id": "34a929f4-1be4-4fa8-adda-42ffd920be90",
   "metadata": {
    "id": "34a929f4-1be4-4fa8-adda-42ffd920be90"
   },
   "source": [
    "To ensure consistency and ease of use, standardize the column names of the dataframe. Start by taking a first look at the dataframe and identifying any column names that need to be modified. Use appropriate naming conventions and make sure that column names are descriptive and informative.\n",
    "\n",
    "*Hint*:\n",
    "- *Column names should be in lower case*\n",
    "- *White spaces in column names should be replaced by `_`*\n",
    "- *`st` could be replaced for `state`*"
   ]
  },
  {
   "cell_type": "code",
   "execution_count": null,
   "id": "8237af3b",
   "metadata": {},
   "outputs": [],
   "source": [
    "import pandas as pd\n",
    "import numpy as np"
   ]
  },
  {
   "cell_type": "code",
   "execution_count": null,
   "id": "5810735c-8056-4442-bbf2-dda38d3e284a",
   "metadata": {
    "id": "5810735c-8056-4442-bbf2-dda38d3e284a"
   },
   "outputs": [],
   "source": [
    "# Your code here\n",
    "data = pd.read_csv(\"https://raw.githubusercontent.com/data-bootcamp-v4/data/main/file1.csv\")\n",
    "data\n",
    "data.shape"
   ]
  },
  {
   "cell_type": "code",
   "execution_count": null,
   "id": "61ae922d",
   "metadata": {},
   "outputs": [],
   "source": [
    "data.columns"
   ]
  },
  {
   "cell_type": "code",
   "execution_count": null,
   "id": "995cda6b",
   "metadata": {},
   "outputs": [],
   "source": [
    "#Column names should be in lower case\n",
    "data.columns = data.columns.str.lower()\n",
    "data.columns"
   ]
  },
  {
   "cell_type": "code",
   "execution_count": null,
   "id": "ad6e831d",
   "metadata": {},
   "outputs": [],
   "source": [
    "#White spaces in column names should be replaced by _\n",
    "data.columns = data.columns.str.replace(' ','_')\n",
    "data.columns"
   ]
  },
  {
   "cell_type": "code",
   "execution_count": null,
   "id": "d8c4192e",
   "metadata": {},
   "outputs": [],
   "source": [
    "data = data.drop_duplicates()\n",
    "data"
   ]
  },
  {
   "cell_type": "code",
   "execution_count": null,
   "id": "f866e901",
   "metadata": {},
   "outputs": [],
   "source": [
    "#st could be replaced for state\n",
    "data = data.rename(columns={\"st\":\"state\"})\n",
    "data"
   ]
  },
  {
   "cell_type": "markdown",
   "id": "35579a0c",
   "metadata": {
    "id": "9cb501ec-36ff-4589-b872-6252bb150316"
   },
   "source": [
    "## Exercise 2: Cleaning invalid Values"
   ]
  },
  {
   "cell_type": "markdown",
   "id": "771fdcf3-8e20-4b06-9c24-3a93ba2b0909",
   "metadata": {
    "id": "771fdcf3-8e20-4b06-9c24-3a93ba2b0909"
   },
   "source": [
    "The dataset contains columns with inconsistent and incorrect values that could affect the accuracy of our analysis. Therefore, we need to clean these columns to ensure that they only contain valid data.\n",
    "\n",
    "Note that this exercise will focus only on cleaning inconsistent values and will not involve handling null values (NaN or None).\n",
    "\n",
    "*Hint*:\n",
    "- *Gender column contains various inconsistent values such as \"F\", \"M\", \"Femal\", \"Male\", \"female\", which need to be standardized, for example, to \"M\" and \"F\".*\n",
    "- *State abbreviations be can replaced with its full name, for example \"AZ\": \"Arizona\", \"Cali\": \"California\", \"WA\": \"Washington\"*\n",
    "- *In education, \"Bachelors\" could be replaced by \"Bachelor\"*\n",
    "- *In Customer Lifetime Value, delete the `%` character*\n",
    "- *In vehicle class, \"Sports Car\", \"Luxury SUV\" and \"Luxury Car\" could be replaced by \"Luxury\"*"
   ]
  },
  {
   "cell_type": "code",
   "execution_count": null,
   "id": "3f8ee5cb-50ab-48af-8a9f-9a389804033c",
   "metadata": {
    "id": "3f8ee5cb-50ab-48af-8a9f-9a389804033c"
   },
   "outputs": [],
   "source": [
    "# Gender column contains various inconsistent values such as \"F\", \"M\", \"Femal\", \"Male\", \"female\", which need to be standardized, \n",
    "# for example, to \"M\" and \"F\".\n",
    "display(data)"
   ]
  },
  {
   "cell_type": "code",
   "execution_count": null,
   "id": "fcc97bf1",
   "metadata": {},
   "outputs": [],
   "source": [
    "data.value_counts('gender')"
   ]
  },
  {
   "cell_type": "code",
   "execution_count": null,
   "id": "5d7d8f19",
   "metadata": {},
   "outputs": [],
   "source": [
    "state_mapping = {\n",
    "    'Male': 'M',\n",
    "    'female': 'F',\n",
    "    'Femal': 'F',\n",
    "\n",
    "}\n",
    "\n",
    "data['gender'] = data['gender'].replace(state_mapping)\n",
    "data['gender']\n",
    "data.value_counts('gender')"
   ]
  },
  {
   "cell_type": "code",
   "execution_count": null,
   "id": "3bcb2ecc",
   "metadata": {},
   "outputs": [],
   "source": [
    "#State abbreviations be can replaced with its full name, for example \"AZ\": \"Arizona\", \"Cali\": \"California\", \"WA\": \"Washington\"\n",
    "data.value_counts('state')"
   ]
  },
  {
   "cell_type": "code",
   "execution_count": null,
   "id": "e5db2c89",
   "metadata": {},
   "outputs": [],
   "source": [
    "state_mapping = {\n",
    "    'Cali': 'California',\n",
    "    'WA': 'Washington',\n",
    "    'AZ': 'Arizona',\n",
    "}\n",
    "\n",
    "data['state'] = data['state'].replace(state_mapping)\n",
    "#data.value_counts('state')"
   ]
  },
  {
   "cell_type": "code",
   "execution_count": null,
   "id": "e2e2d249",
   "metadata": {},
   "outputs": [],
   "source": [
    "data.state.value_counts()"
   ]
  },
  {
   "cell_type": "code",
   "execution_count": null,
   "id": "20e1947f",
   "metadata": {},
   "outputs": [],
   "source": [
    "#In education, \"Bachelors\" could be replaced by \"Bachelor\"\n",
    "data.education =np.where(data.education == 'Bachelors', 'Bachelor', data.education)\n",
    "data.education"
   ]
  },
  {
   "cell_type": "code",
   "execution_count": null,
   "id": "c6af6508",
   "metadata": {},
   "outputs": [],
   "source": [
    "data.education.value_counts()"
   ]
  },
  {
   "cell_type": "code",
   "execution_count": null,
   "id": "3340a3d1",
   "metadata": {},
   "outputs": [],
   "source": [
    "#In Customer Lifetime Value, delete the % character\n",
    "data['customer_lifetime_value'] = data['customer_lifetime_value'].str.replace('%', '', regex=True).astype(float) / 100\n",
    "data['customer_lifetime_value']"
   ]
  },
  {
   "cell_type": "code",
   "execution_count": null,
   "id": "7fc40f72",
   "metadata": {},
   "outputs": [],
   "source": [
    "#In vehicle class, \"Sports Car\", \"Luxury SUV\" and \"Luxury Car\" could be replaced by \"Luxury\"\n",
    "vehicle_class_mapping = {'Sports Car': 'Luxury', \"Luxury SUV\":\"Luxury\", \"Luxury Car\":\"Luxury\"}\n",
    "vehicle_class_mapping"
   ]
  },
  {
   "cell_type": "markdown",
   "id": "85ff78ce-0174-4890-9db3-8048b7d7d2d0",
   "metadata": {
    "id": "85ff78ce-0174-4890-9db3-8048b7d7d2d0"
   },
   "source": [
    "## Exercise 3: Formatting data types"
   ]
  },
  {
   "cell_type": "markdown",
   "id": "b91c2cf8-79a2-4baf-9f65-ff2fb22270bd",
   "metadata": {
    "id": "b91c2cf8-79a2-4baf-9f65-ff2fb22270bd"
   },
   "source": [
    "The data types of many columns in the dataset appear to be incorrect. This could impact the accuracy of our analysis. To ensure accurate analysis, we need to correct the data types of these columns. Please update the data types of the columns as appropriate."
   ]
  },
  {
   "cell_type": "markdown",
   "id": "43e5d853-ff9e-43b2-9d92-aef2f78764f3",
   "metadata": {
    "id": "43e5d853-ff9e-43b2-9d92-aef2f78764f3"
   },
   "source": [
    "It is important to note that this exercise does not involve handling null values (NaN or None)."
   ]
  },
  {
   "cell_type": "markdown",
   "id": "329ca691-9196-4419-8969-3596746237a1",
   "metadata": {
    "id": "329ca691-9196-4419-8969-3596746237a1"
   },
   "source": [
    "*Hint*:\n",
    "- *Customer lifetime value should be numeric*\n",
    "- *Number of open complaints has an incorrect format. Look at the different values it takes with `unique()` and take the middle value. As an example, 1/5/00 should be 5. Number of open complaints is a string - remember you can use `split()` to deal with it and take the number you need. Finally, since it should be numeric, cast the column to be in its proper type.*"
   ]
  },
  {
   "cell_type": "code",
   "execution_count": null,
   "id": "eb8f5991-73e9-405f-bf1c-6b7c589379a9",
   "metadata": {
    "id": "eb8f5991-73e9-405f-bf1c-6b7c589379a9"
   },
   "outputs": [],
   "source": [
    "# Customer lifetime value should be numeric\n",
    "data.dtypes"
   ]
  },
  {
   "cell_type": "code",
   "execution_count": null,
   "id": "fea49948",
   "metadata": {},
   "outputs": [],
   "source": [
    "data['customer_lifetime_value'] = pd.to_numeric(data['customer_lifetime_value'], errors='coerce')"
   ]
  },
  {
   "cell_type": "code",
   "execution_count": null,
   "id": "7d265cc2",
   "metadata": {},
   "outputs": [],
   "source": [
    "data.dtypes"
   ]
  },
  {
   "cell_type": "code",
   "execution_count": null,
   "id": "443211c7",
   "metadata": {},
   "outputs": [],
   "source": []
  },
  {
   "cell_type": "code",
   "execution_count": null,
   "id": "c0965a09",
   "metadata": {},
   "outputs": [],
   "source": [
    "#Number of open complaints has an incorrect format. Look at the different values it takes with unique()\n",
    "#and take the middle value. As an example, 1/5/00 should be 5. Number of open complaints is a string - remember you can\n",
    "#use split() to deal with it and take the number you need. Finally, since it should be numeric, cast the column to be in its\n",
    "#proper type\n"
   ]
  },
  {
   "cell_type": "code",
   "execution_count": null,
   "id": "197a1ff8",
   "metadata": {
    "scrolled": true
   },
   "outputs": [],
   "source": [
    "#Renaming the complaints and replacing them\n",
    "complaints_rename = ({'1/0/00':'0', '1/2/00':'2', '1/1/00':'1', '1/3/00':'3', '1/5/00':'5','1/4/00':'4'})\n",
    "data['number_of_open_complaints'] = data['number_of_open_complaints'].replace(complaints_rename)\n",
    "# Checking the results\n",
    "data['number_of_open_complaints'].unique()\n",
    "data\n"
   ]
  },
  {
   "cell_type": "code",
   "execution_count": null,
   "id": "30ae48e8",
   "metadata": {},
   "outputs": [],
   "source": []
  },
  {
   "cell_type": "code",
   "execution_count": null,
   "id": "d4d65227",
   "metadata": {},
   "outputs": [],
   "source": [
    "#data = data.applymap(lambda x: int(x) if isinstance(x, (int, float)) else x)\n",
    "#data.dtypes"
   ]
  },
  {
   "cell_type": "code",
   "execution_count": null,
   "id": "b1fe65f0",
   "metadata": {},
   "outputs": [],
   "source": [
    "data['number_of_open_complaints'] = pd.to_numeric(data['number_of_open_complaints'], errors = 'coerce')"
   ]
  },
  {
   "cell_type": "code",
   "execution_count": null,
   "id": "5cad73a5",
   "metadata": {},
   "outputs": [],
   "source": [
    "data.dtypes"
   ]
  },
  {
   "cell_type": "markdown",
   "id": "14c52e28-2d0c-4dd2-8bd5-3476e34fadc1",
   "metadata": {
    "id": "14c52e28-2d0c-4dd2-8bd5-3476e34fadc1"
   },
   "source": [
    "## Exercise 4: Dealing with Null values"
   ]
  },
  {
   "cell_type": "markdown",
   "id": "34b9a20f-7d32-4417-975e-1b4dfb0e16cd",
   "metadata": {
    "id": "34b9a20f-7d32-4417-975e-1b4dfb0e16cd"
   },
   "source": [
    "Identify any columns with null or missing values. Identify how many null values each column has. You can use the `isnull()` function in pandas to find columns with null values.\n",
    "\n",
    "Decide on a strategy for handling the null values. There are several options, including:\n",
    "\n",
    "- Drop the rows or columns with null values\n",
    "- Fill the null values with a specific value (such as the column mean or median for numerical variables, and mode for categorical variables)\n",
    "- Fill the null values with the previous or next value in the column\n",
    "- Fill the null values based on a more complex algorithm or model (note: we haven't covered this yet)\n",
    "\n",
    "Implement your chosen strategy to handle the null values. You can use the `fillna()` function in pandas to fill null values or `dropna()` function to drop null values.\n",
    "\n",
    "Verify that your strategy has successfully handled the null values. You can use the `isnull()` function again to check if there are still null values in the dataset.\n",
    "\n",
    "Remember to document your process and explain your reasoning for choosing a particular strategy for handling null values.\n",
    "\n",
    "After formatting data types, as a last step, convert all the numeric variables to integers using `applymap()`."
   ]
  },
  {
   "cell_type": "code",
   "execution_count": null,
   "id": "f184fc35-7831-4836-a0a5-e7f99e01b40e",
   "metadata": {
    "id": "f184fc35-7831-4836-a0a5-e7f99e01b40e"
   },
   "outputs": [],
   "source": [
    "# Drop the rows or columns with null values\n",
    "columns_with_nulls = data.columns[data.isnull().any()]\n",
    "columns_with_nulls"
   ]
  },
  {
   "cell_type": "code",
   "execution_count": null,
   "id": "1eb7e22b",
   "metadata": {},
   "outputs": [],
   "source": [
    "null_counts = data[columns_with_nulls].isnull().sum()\n",
    "null_counts"
   ]
  },
  {
   "cell_type": "code",
   "execution_count": null,
   "id": "7e31d03f",
   "metadata": {},
   "outputs": [],
   "source": [
    "numeric_columns = data.select_dtypes(include=['number']).columns\n",
    "numeric_columns\n",
    "categorical_columns = data.select_dtypes(include=['object']).columns\n",
    "categorical_columns"
   ]
  },
  {
   "cell_type": "code",
   "execution_count": null,
   "id": "c6efc851",
   "metadata": {},
   "outputs": [],
   "source": [
    "data[numeric_columns] = data[numeric_columns].fillna(data[numeric_columns].mean())\n",
    "data[categorical_columns] = data[categorical_columns].fillna(data[categorical_columns].mode().iloc[0])\n",
    "data[categorical_columns]"
   ]
  },
  {
   "cell_type": "code",
   "execution_count": null,
   "id": "ed28878f",
   "metadata": {},
   "outputs": [],
   "source": [
    "remaining_nulls = data.isnull().sum().sum()\n",
    "remaining_nulls"
   ]
  },
  {
   "cell_type": "code",
   "execution_count": null,
   "id": "04ca9d28",
   "metadata": {},
   "outputs": [],
   "source": [
    "data[numeric_columns] = data[numeric_columns].applymap(int)\n",
    "data[numeric_columns] "
   ]
  },
  {
   "cell_type": "code",
   "execution_count": null,
   "id": "cba4c47a",
   "metadata": {},
   "outputs": [],
   "source": [
    "#The strategy includes filling missing values with the mean for numeric columns and the mode for categorical columns\n",
    "#Verify the success of the strategy by checking for remaining null values\n",
    "#Converting numeric variables to integers is done to ensure data consistency"
   ]
  },
  {
   "cell_type": "markdown",
   "id": "98416351-e999-4156-9834-9b00a311adfa",
   "metadata": {
    "id": "98416351-e999-4156-9834-9b00a311adfa"
   },
   "source": [
    "## Exercise 5: Dealing with duplicates"
   ]
  },
  {
   "cell_type": "markdown",
   "id": "ea0816a7-a18e-4d4c-b667-a8452a800bd1",
   "metadata": {
    "id": "ea0816a7-a18e-4d4c-b667-a8452a800bd1"
   },
   "source": [
    "Use the `.duplicated()` method to identify any duplicate rows in the dataframe.\n",
    "\n",
    "Decide on a strategy for handling the duplicates. Options include:\n",
    "- Dropping all duplicate rows\n",
    "- Keeping only the first occurrence of each duplicated row\n",
    "- Keeping only the last occurrence of each duplicated row\n",
    "- Dropping duplicates based on a subset of columns\n",
    "- Dropping duplicates based on a specific column\n",
    "\n",
    "Implement your chosen strategy using the `drop_duplicates()` function.\n",
    "\n",
    "Verify that your strategy has successfully handled the duplicates by checking for duplicates again using `.duplicated()`.\n",
    "\n",
    "Remember to document your process and explain your reasoning for choosing a particular strategy for handling duplicates.\n",
    "\n",
    "Save the cleaned dataset to a new CSV file.\n",
    "\n",
    "*Hint*: *after dropping duplicates, reset the index to ensure consistency*."
   ]
  },
  {
   "cell_type": "code",
   "execution_count": null,
   "id": "1929362c-47ed-47cb-baca-358b78d401a0",
   "metadata": {
    "id": "1929362c-47ed-47cb-baca-358b78d401a0"
   },
   "outputs": [],
   "source": [
    "# Dropping all duplicate rows\n",
    "duplicate_rows = data.duplicated()\n",
    "duplicate_rows"
   ]
  },
  {
   "cell_type": "code",
   "execution_count": null,
   "id": "ba475615",
   "metadata": {},
   "outputs": [],
   "source": [
    "#Keeping only the first occurrence of each duplicated row\n",
    "cleaned_data = data.drop_duplicates(keep='first')\n",
    "cleaned_data"
   ]
  },
  {
   "cell_type": "code",
   "execution_count": null,
   "id": "53fe5ed4",
   "metadata": {},
   "outputs": [],
   "source": [
    "#Keeping only the last occurrence of each duplicated row\n",
    "cleaned_data = data.drop_duplicates(keep='last')\n",
    "cleaned_data"
   ]
  },
  {
   "cell_type": "code",
   "execution_count": null,
   "id": "2428c9ae",
   "metadata": {},
   "outputs": [],
   "source": [
    "#Dropping duplicates based on a subset of columns\n",
    "cleaned_data_subset = data.drop_duplicates(subset=['customer', 'state'],keep='first')\n",
    "cleaned_data_subset\n",
    "verify_duplicates_subset = cleaned_data_subset.duplicated(subset=['customer', 'state'])\n",
    "verify_duplicates_subset"
   ]
  },
  {
   "cell_type": "code",
   "execution_count": null,
   "id": "fc9fb36f",
   "metadata": {},
   "outputs": [],
   "source": [
    "#Dropping duplicates based on a specific column\n",
    "cleaned_data_specific = data.drop_duplicates(subset=['education'],keep='first')\n",
    "cleaned_data_specific\n",
    "verify_duplicates_specific = cleaned_data_specific.duplicated(subset=['customer'])\n",
    "verify_duplicates_specific"
   ]
  },
  {
   "cell_type": "code",
   "execution_count": null,
   "id": "9e146688",
   "metadata": {},
   "outputs": [],
   "source": [
    "#Save the cleaned dataset to a new CSV file.\n",
    "cleaned_data_subset.to_csv('cleaned_data_subset.csv', index=False)\n",
    "cleaned_data_specific.to_csv('cleaned_data_specific.csv', index=False)"
   ]
  },
  {
   "cell_type": "code",
   "execution_count": null,
   "id": "7e4ef613",
   "metadata": {},
   "outputs": [],
   "source": [
    "#Reset the index to ensure consistency.\n",
    "cleaned_data_subset.reset_index(drop=True, inplace=True)\n",
    "cleaned_data_specific.reset_index(drop=True, inplace=True)"
   ]
  },
  {
   "cell_type": "markdown",
   "id": "60840701-4783-40e2-b4d8-55303f9100c9",
   "metadata": {
    "id": "60840701-4783-40e2-b4d8-55303f9100c9"
   },
   "source": [
    "# Bonus: Challenge 2: creating functions on a separate `py` file"
   ]
  },
  {
   "cell_type": "markdown",
   "id": "9d1adb3a-17cf-4899-8041-da21a4337fb4",
   "metadata": {
    "id": "9d1adb3a-17cf-4899-8041-da21a4337fb4"
   },
   "source": [
    "Put all the data cleaning and formatting steps into functions, and create a main function that performs all the cleaning and formatting.\n",
    "\n",
    "Write these functions in separate .py file(s). By putting these steps into functions, we can make the code more modular and easier to maintain."
   ]
  },
  {
   "cell_type": "markdown",
   "id": "0e170dc2-b62c-417a-8248-e63ed18a70c4",
   "metadata": {
    "id": "0e170dc2-b62c-417a-8248-e63ed18a70c4"
   },
   "source": [
    "*Hint: autoreload module is a utility module in Python that allows you to automatically reload modules in the current session when changes are made to the source code. This can be useful in situations where you are actively developing code and want to see the effects of changes you make without having to constantly restart the Python interpreter or Jupyter Notebook kernel.*"
   ]
  },
  {
   "cell_type": "code",
   "execution_count": null,
   "id": "a52c6dfc-cd11-4d01-bda4-f719fa33e9a4",
   "metadata": {
    "id": "a52c6dfc-cd11-4d01-bda4-f719fa33e9a4"
   },
   "outputs": [],
   "source": [
    "def handle_missing_values(data):\n",
    "    columns_with_null = data.columns[data.isnull().any()]\n",
    "    numeric_columns = data.select_dtypes(include=['number']).columns\n",
    "    data[numeric_columns] = data[numeric_columns].fill(data[numeric_columns].mean())\n",
    "    \n",
    "    categorical_columns = data.selectstypes(include=['object']).columns\n",
    "    data[categorical_columns] = data[categorical_columns].fillna(data[categorical_columns].mode().iloc[0])\n",
    "    return data"
   ]
  },
  {
   "cell_type": "code",
   "execution_count": null,
   "id": "64766e3a",
   "metadata": {},
   "outputs": [],
   "source": [
    "def convert_numeric_to_integers(data):\n",
    "    numeric_columns = data.select_dtypes(include=['number']).columns\n",
    "    data[numeric_columns] = data[numeric_columns].applymap(int)\n",
    "    return data"
   ]
  },
  {
   "cell_type": "code",
   "execution_count": null,
   "id": "014e8d8d",
   "metadata": {},
   "outputs": [],
   "source": [
    "def data_cleaning(data):\n",
    "    data = handle_missing_values(data)\n",
    "    data = convert_numeric_to_integer(data)\n",
    "    \n",
    "    return data"
   ]
  },
  {
   "cell_type": "markdown",
   "id": "80f846bb-3f5e-4ca2-96c0-900728daca5a",
   "metadata": {
    "id": "80f846bb-3f5e-4ca2-96c0-900728daca5a",
    "tags": []
   },
   "source": [
    "# Bonus: Challenge 3: Analyzing Clean and Formated Data"
   ]
  },
  {
   "cell_type": "markdown",
   "id": "9021630e-cc90-446c-b5bd-264d6c864207",
   "metadata": {
    "id": "9021630e-cc90-446c-b5bd-264d6c864207"
   },
   "source": [
    "You have been tasked with analyzing the data to identify potential areas for improving customer retention and profitability. Your goal is to identify customers with a high policy claim amount and a low customer lifetime value.\n",
    "\n",
    "In the Pandas Lab, we only looked at high policy claim amounts because we couldn't look into low customer lifetime values. If we had tried to work with that column, we wouldn't have been able to because customer lifetime value wasn't clean and in its proper format. So after cleaning and formatting the data, let's get some more interesting insights!\n",
    "\n",
    "Instructions:\n",
    "\n",
    "- Review the statistics again for total claim amount and customer lifetime value to gain an understanding of the data.\n",
    "- To identify potential areas for improving customer retention and profitability, we want to focus on customers with a high policy claim amount and a low customer lifetime value. Consider customers with a high policy claim amount to be those in the top 25% of the total claim amount, and clients with a low customer lifetime value to be those in the bottom 25% of the customer lifetime value. Create a pandas DataFrame object that contains information about customers with a policy claim amount greater than the 75th percentile and a customer lifetime value in the bottom 25th percentile.\n",
    "- Use DataFrame methods to calculate summary statistics about the high policy claim amount and low customer lifetime value data. To do so, select both columns of the dataframe simultaneously and pass it to the `.describe()` method. This will give you descriptive statistics, such as mean, median, standard deviation, minimum and maximum values for both columns at the same time, allowing you to compare and analyze their characteristics."
   ]
  },
  {
   "cell_type": "code",
   "execution_count": null,
   "id": "211e82b5-461a-4d6f-8a23-4deccb84173c",
   "metadata": {
    "id": "211e82b5-461a-4d6f-8a23-4deccb84173c"
   },
   "outputs": [],
   "source": [
    "# Your code here"
   ]
  },
  {
   "cell_type": "markdown",
   "id": "ad0ef85d",
   "metadata": {},
   "source": [
    "# EDA (Exploratory Data Analysis) - Complete the following tasks to explore the data:\n",
    "\n",
    "Show DataFrame info.\n",
    "\n",
    "Describe DataFrame.\n",
    "\n",
    "Show a plot of the Gender breakdown.\n",
    "\n",
    "Show a plot of Income by State.\n",
    "\n",
    "Show a plot of the Policy Type by the Total Claim Amount.\n",
    "\n",
    "Show a plot of the Education by Vehicle Class.\n",
    "\n",
    "What insights can you establish from these plots?\n",
    "\n",
    "What other plots do you feel would be beneficial?"
   ]
  },
  {
   "cell_type": "code",
   "execution_count": null,
   "id": "ea78d641",
   "metadata": {},
   "outputs": [],
   "source": [
    "import matplotlib.pyplot as plt\n",
    "import seaborn as sns"
   ]
  },
  {
   "cell_type": "code",
   "execution_count": null,
   "id": "551f0c28",
   "metadata": {},
   "outputs": [],
   "source": [
    "#Show DataFrame info.\n",
    "data.info()"
   ]
  },
  {
   "cell_type": "code",
   "execution_count": null,
   "id": "982441f7",
   "metadata": {},
   "outputs": [],
   "source": [
    "data.head()"
   ]
  },
  {
   "cell_type": "code",
   "execution_count": null,
   "id": "9a4007c3",
   "metadata": {},
   "outputs": [],
   "source": [
    "#Describe DataFrame.\n",
    "data.describe()"
   ]
  },
  {
   "cell_type": "code",
   "execution_count": null,
   "id": "6a406915",
   "metadata": {},
   "outputs": [],
   "source": [
    "#Show a plot of the Gender breakdown.\n",
    "sns.countplot(x='gender', data=data)"
   ]
  },
  {
   "cell_type": "code",
   "execution_count": null,
   "id": "63718aec",
   "metadata": {},
   "outputs": [],
   "source": [
    "#Ther are more Femanle clients than Male clients"
   ]
  },
  {
   "cell_type": "code",
   "execution_count": null,
   "id": "281fd902",
   "metadata": {},
   "outputs": [],
   "source": [
    "#Show a plot of Income by State.\n",
    "plt.figure(figsize=(12,6))\n",
    "plt.title(\"Income by State\")\n",
    "sns.barplot(x= 'state', y='income', data=data)\n",
    "plt.show()"
   ]
  },
  {
   "cell_type": "code",
   "execution_count": null,
   "id": "ea029d1a",
   "metadata": {},
   "outputs": [],
   "source": [
    "#Income by State Boxplot: Allows to observe the destribution of income across diferent states. #The clients in Washington State have the highest income, the other states have a similar income"
   ]
  },
  {
   "cell_type": "code",
   "execution_count": null,
   "id": "37498fe7",
   "metadata": {},
   "outputs": [],
   "source": [
    "#Show a plot of the Policy Type by the Total Claim Amount.\n",
    "plt.title(\"Total Claim Amount by Policy Type\")\n",
    "sns.barplot(x=\"policy_type\", y=\"total_claim_amount\", data=data)\n",
    "plt.show()"
   ]
  },
  {
   "cell_type": "code",
   "execution_count": null,
   "id": "a69af743",
   "metadata": {},
   "outputs": [],
   "source": [
    "#the corporate_alto has a slightly higher total_claim_amount than the others"
   ]
  },
  {
   "cell_type": "code",
   "execution_count": null,
   "id": "37cc36f3",
   "metadata": {},
   "outputs": [],
   "source": [
    "#Show a plot of the Education by Vehicle Class.\n",
    "plt.figure(figsize=(12, 6))\n",
    "sns.countplot(x=\"education\", hue=\"vehicle_class\", data=data)\n",
    "plt.show()\n",
    "#or\n",
    "g = sns.histplot(x='education', hue='vehicle_class', data=data, stat='count', multiple='stack')\n",
    "plt.setp(g.get_xticklabels(), rotation=45)"
   ]
  },
  {
   "cell_type": "code",
   "execution_count": null,
   "id": "c9200c88",
   "metadata": {},
   "outputs": [],
   "source": [
    "#What insights can you establish from these plots?\n",
    "#What other plots do you feel would be beneficial?\n",
    "#A plto to compare education with the state, and a plot to compare income with education\n",
    "#Most luxury cars are owned with the lowest education (high school or below and college). People with higher education have mostly four-door cars"
   ]
  },
  {
   "cell_type": "markdown",
   "id": "feaf44bb",
   "metadata": {},
   "source": [
    "# Lab Day 4-\n",
    "\n",
    "Check the data types of the columns. Get the numeric data into a dataframe called numerical and categorical columns in a dataframe called categorical. \n",
    "(You can use np.number and object to select the numerical data types and categorical data types respectively)\n",
    "\n",
    "Now we will try to check the normality of the numerical variables visually\n",
    "\n",
    "Use seaborn library to construct distribution plots for the numerical variables\n",
    "\n",
    "Use Matplotlib to construct histograms\n",
    "\n",
    "Do the distributions for different numerical variables look like a normal distribution?\n",
    "\n",
    "For the numerical variables, check the multicollinearity between the features. Please note that we will use the column total_claim_amount later as the target variable.\n",
    "\n",
    "Drop one of the two features that show a high correlation between them (greater than 0.9). Write code for both the correlation matrix and for seaborn heatmap. \n",
    "If there is no pair of features that have a high correlation, then do not drop any features"
   ]
  },
  {
   "cell_type": "code",
   "execution_count": null,
   "id": "067a6783",
   "metadata": {},
   "outputs": [],
   "source": [
    "import numpy as np"
   ]
  },
  {
   "cell_type": "code",
   "execution_count": null,
   "id": "575008b6",
   "metadata": {},
   "outputs": [],
   "source": [
    "data.dtypes"
   ]
  },
  {
   "cell_type": "code",
   "execution_count": null,
   "id": "8351ac76",
   "metadata": {},
   "outputs": [],
   "source": [
    "numerical = data.select_dtypes(include=[np.number])\n",
    "categorical = data.select_dtypes(include=[object])"
   ]
  },
  {
   "cell_type": "code",
   "execution_count": null,
   "id": "10056804",
   "metadata": {},
   "outputs": [],
   "source": [
    "#Use seaborn library to construct distribution plots for the numerical variables\n",
    "for column in numerical.columns:\n",
    "    sns.histplot(data=numerical, x=column, kde=True)\n",
    "    plt.show()"
   ]
  },
  {
   "cell_type": "code",
   "execution_count": null,
   "id": "f89c16e0",
   "metadata": {},
   "outputs": [],
   "source": [
    "#Use Matplotlib to construct histograms\n",
    "for column in numerical.columns:\n",
    "    plt.hist(numerical[column], bins=20)\n",
    "    plt.show()"
   ]
  },
  {
   "cell_type": "code",
   "execution_count": null,
   "id": "0a35d302",
   "metadata": {},
   "outputs": [],
   "source": [
    "#Do the distributions for different numerical variables look like a normal distribution?\n",
    "#No, none of the graphs have a normal distribution shape"
   ]
  },
  {
   "cell_type": "code",
   "execution_count": null,
   "id": "f8f40fed",
   "metadata": {},
   "outputs": [],
   "source": [
    "#For the numerical variables, check the multicollinearity between the features.\n",
    "#Please note that we will use the column total_claim_amount later as the target variable.\n",
    "correlation_matrix = numerical.corr()\n",
    "correlation_matrix"
   ]
  },
  {
   "cell_type": "code",
   "execution_count": null,
   "id": "46557f04",
   "metadata": {},
   "outputs": [],
   "source": [
    "sns.heatmap(correlation_matrix, annot=True)\n",
    "plt.show()"
   ]
  },
  {
   "cell_type": "code",
   "execution_count": null,
   "id": "9c912c15",
   "metadata": {},
   "outputs": [],
   "source": []
  },
  {
   "cell_type": "markdown",
   "id": "4051fb6d",
   "metadata": {},
   "source": [
    "# Lab | Customer Analysis Round 5\n",
    "X-y split.\n",
    "\n",
    "Scaling (numerical)."
   ]
  },
  {
   "cell_type": "code",
   "execution_count": null,
   "id": "b54d02fc",
   "metadata": {},
   "outputs": [],
   "source": [
    "X = numerical.drop(['total_claim_amount'], axis=1)\n",
    "y= numerical['total_claim_amount']\n",
    "X"
   ]
  },
  {
   "cell_type": "code",
   "execution_count": null,
   "id": "fc53806d",
   "metadata": {},
   "outputs": [],
   "source": []
  },
  {
   "cell_type": "code",
   "execution_count": null,
   "id": "8036339b",
   "metadata": {},
   "outputs": [],
   "source": [
    "from sklearn.preprocessing import MinMaxScaler \n",
    "from sklearn.preprocessing import StandardScaler"
   ]
  },
  {
   "cell_type": "code",
   "execution_count": null,
   "id": "d0282915",
   "metadata": {},
   "outputs": [],
   "source": [
    "transformer = MinMaxScaler().fit(X)\n",
    "x_normalized = transformer.transform(X)\n",
    "print(x_normalized.shape)\n",
    "x_normalized\n",
    "pd.DataFrame(x_normalized, columns=X.columns)"
   ]
  },
  {
   "cell_type": "markdown",
   "id": "e0d74689",
   "metadata": {},
   "source": [
    "# Lab | Customer Analysis Round 6\n",
    "\n",
    "- One Hot/Label Encoding (categorical).\n",
    "- Concat DataFrames\n",
    "\n",
    "Linear Regression\n",
    "\n",
    "-Train-test split.\n",
    "-Apply linear regression.\n",
    "\n",
    "Model Validation\n",
    "\n",
    "-Description:\n",
    "R2.\n",
    "MSE.\n",
    "RMSE.\n",
    "MAE."
   ]
  },
  {
   "cell_type": "code",
   "execution_count": null,
   "id": "e72ee8c9",
   "metadata": {},
   "outputs": [],
   "source": [
    "from sklearn.preprocessing import OneHotEncoder"
   ]
  },
  {
   "cell_type": "code",
   "execution_count": null,
   "id": "ca7ceb6e",
   "metadata": {},
   "outputs": [],
   "source": [
    "categorical = data.select_dtypes(include=[object])\n",
    "categorical"
   ]
  },
  {
   "cell_type": "code",
   "execution_count": null,
   "id": "3301f2b4",
   "metadata": {},
   "outputs": [],
   "source": [
    "categorical = categorical.drop(['customer'], axis=1)\n",
    "categorical.head()\n"
   ]
  },
  {
   "cell_type": "code",
   "execution_count": null,
   "id": "9890d23a",
   "metadata": {},
   "outputs": [],
   "source": [
    "encoder = OneHotEncoder(drop='first').fit(categorical)\n",
    "cols = encoder.get_feature_names_out(input_features=categorical.columns)\n",
    "\n",
    "X_cat_encoder = pd.DataFrame(encoder.transform(categorical).toarray(),columns=cols)\n",
    "X_cat_encoder.head()\n"
   ]
  },
  {
   "cell_type": "code",
   "execution_count": null,
   "id": "88c81d93",
   "metadata": {},
   "outputs": [],
   "source": [
    "# we use the OneHotEncoder to transform categorical data into a binary format\n",
    "# we can use the (drop='first') it takes away a column\n"
   ]
  },
  {
   "cell_type": "code",
   "execution_count": null,
   "id": "25149143",
   "metadata": {},
   "outputs": [],
   "source": [
    "# Concat DataFrames\n"
   ]
  },
  {
   "cell_type": "code",
   "execution_count": null,
   "id": "27030a11",
   "metadata": {},
   "outputs": [],
   "source": [
    "data_encoded = pd.concat([data.drop(categorical_columns, axis=1), X_cat_encoder], axis=1)\n",
    "data_encoded.head()\n",
    "#we concatonate the values into a single dataset with all features"
   ]
  },
  {
   "cell_type": "code",
   "execution_count": null,
   "id": "225b8779",
   "metadata": {},
   "outputs": [],
   "source": [
    "#Train-test split.\n",
    "y= numerical['total_claim_amount']\n",
    "y.head()"
   ]
  },
  {
   "cell_type": "code",
   "execution_count": null,
   "id": "c04fb96f",
   "metadata": {},
   "outputs": [],
   "source": [
    "from sklearn.model_selection import train_test_split\n",
    "X_train, X_test, y_train, y_test = train_test_split(X, y, test_size=0.2, random_state=42)"
   ]
  },
  {
   "cell_type": "code",
   "execution_count": null,
   "id": "2fd0d233",
   "metadata": {},
   "outputs": [],
   "source": [
    "print(X_train.shape)\n",
    "print(X_test.shape)\n",
    "print(y_train.shape)\n",
    "print(y_test.shape)"
   ]
  },
  {
   "cell_type": "code",
   "execution_count": null,
   "id": "55c6f2db",
   "metadata": {},
   "outputs": [],
   "source": [
    "#Apply linear regression.\n",
    "from sklearn import linear_model\n",
    "X_train.head()"
   ]
  },
  {
   "cell_type": "code",
   "execution_count": null,
   "id": "e1166c4c",
   "metadata": {},
   "outputs": [],
   "source": [
    "y_train.head()"
   ]
  },
  {
   "cell_type": "code",
   "execution_count": null,
   "id": "7d1b2d38",
   "metadata": {},
   "outputs": [],
   "source": [
    "lm = linear_model.LinearRegression()\n",
    "lm.fit(X_train,y_train)"
   ]
  },
  {
   "cell_type": "code",
   "execution_count": null,
   "id": "5c45b29e",
   "metadata": {},
   "outputs": [],
   "source": [
    "from sklearn.metrics import r2_score\n",
    "predictions = lm.predict(X_train)\n",
    "r2_score(y_train, predictions)\n",
    "#this is our \"cheating\" score"
   ]
  },
  {
   "cell_type": "code",
   "execution_count": null,
   "id": "2cc66d04",
   "metadata": {},
   "outputs": [],
   "source": [
    "predictions_test = lm.predict(X_test)\n",
    "r2_score(y_test, predictions_test)\n",
    "#this is the score that we want, because the score from the train data was already seen by the model)\n",
    "#by comparing both of the values We can see that our prediction model is not predicting correctly. The value of our test value is much higher than the value of the predicted model"
   ]
  },
  {
   "cell_type": "code",
   "execution_count": null,
   "id": "dc1e4053",
   "metadata": {},
   "outputs": [],
   "source": [
    "y_test[:5]"
   ]
  },
  {
   "cell_type": "code",
   "execution_count": null,
   "id": "2806de5e",
   "metadata": {},
   "outputs": [],
   "source": [
    "predictions_test[:5]"
   ]
  },
  {
   "cell_type": "code",
   "execution_count": null,
   "id": "73d9d8fd",
   "metadata": {},
   "outputs": [],
   "source": [
    "#we can see that (for exemple) onde test value was 508 and our prediction showed 357.49, which is quite far from the real value"
   ]
  },
  {
   "cell_type": "code",
   "execution_count": null,
   "id": "3a269718",
   "metadata": {},
   "outputs": [],
   "source": [
    "from sklearn.metrics import mean_squared_error\n",
    "mse=mean_squared_error(y_test,predictions_test)\n",
    "mse"
   ]
  },
  {
   "cell_type": "code",
   "execution_count": null,
   "id": "99c5979c",
   "metadata": {},
   "outputs": [],
   "source": [
    "from sklearn.metrics import mean_absolute_error\n",
    "mae = mean_absolute_error(y_test, predictions_test)\n",
    "print(mae)\n",
    "#is another metric to measure the average magnitude of errors like in a regression model\n",
    "#is less sensitive to outliers compared to mse and rmse\n",
    "#a lower mae indicates that the model's predictions are closer to the actual values, meaning it has better accurancy\n",
    "#our model's prediction are, on average, 170.93 units away fram the the true value"
   ]
  },
  {
   "cell_type": "code",
   "execution_count": null,
   "id": "bae6113b",
   "metadata": {},
   "outputs": [],
   "source": [
    "rmse = np.sqrt(mean_squared_error(y_test,predictions_test))\n",
    "rmse\n",
    "#measures the average magnituude of the errors in a regression model\n",
    "#our model on average is 229.88 away from the correct value"
   ]
  },
  {
   "cell_type": "code",
   "execution_count": null,
   "id": "08497b95",
   "metadata": {},
   "outputs": [],
   "source": [
    "y_test.mean()"
   ]
  },
  {
   "cell_type": "markdown",
   "id": "c5f00813",
   "metadata": {},
   "source": [
    "# Lab | Customer Analysis Round 7\n",
    "-For this lab, we will continue using the .csv file and the Jupyter notebook that you have been using all week.\n",
    "\n",
    "-Remember the previous rounds. Follow the steps as shown in previous lectures and try to improve the accuracy of the model. Include both categorical columns in the exercise. Some approaches you can try in this exercise:\n",
    "\n",
    "- use the concept of multicollinearity and remove insignificant variables\n",
    "\n",
    "- use a different method of scaling the numerical variables\n",
    "\n",
    "- use a different ratio of train test split\n",
    "\n",
    "- use the transformation on numerical columns which align it more towards a normal distribution"
   ]
  },
  {
   "cell_type": "code",
   "execution_count": null,
   "id": "5bf65fb8",
   "metadata": {},
   "outputs": [],
   "source": [
    "correlation_matrix2 = data.corr()\n",
    "sns.heatmap(correlation_matrix2, annot=True)"
   ]
  },
  {
   "cell_type": "code",
   "execution_count": null,
   "id": "2139383d",
   "metadata": {},
   "outputs": [],
   "source": [
    "#In this heatmap we can observe the correlations between all variables. Areas with more intense colors indicate stronger correlations. If we identify variables with high correlation we can remove them to reduce the multicollinearity\n",
    "#In this heatmap we cannot see a strong correlation so we will not dropp any variable\n",
    "#By dopping highly correlated variables, we can achieve better model stability"
   ]
  },
  {
   "cell_type": "code",
   "execution_count": null,
   "id": "11454785",
   "metadata": {},
   "outputs": [],
   "source": []
  },
  {
   "cell_type": "code",
   "execution_count": null,
   "id": "4c6a2874",
   "metadata": {},
   "outputs": [],
   "source": []
  },
  {
   "cell_type": "code",
   "execution_count": null,
   "id": "7bff6d09",
   "metadata": {},
   "outputs": [],
   "source": [
    "#Use a different method of scaling the numerical variables\n",
    "Standardtransformer = StandardScaler().fit(numerical)\n",
    "X_standardized = Standardtransformer.transform(numerical)\n",
    "print(X_standardized.shape)\n",
    "X_standardized = pd.DataFrame(X_standardized,columns=numerical.columns)\n",
    "X_standardized.head()\n",
    "X_standardized.describe().T"
   ]
  },
  {
   "cell_type": "code",
   "execution_count": null,
   "id": "6b8c005e",
   "metadata": {},
   "outputs": [],
   "source": [
    "data_encoded = pd.concat([data.drop(categorical_columns, axis=1), X_cat_encoder], axis=1)\n",
    "data_encoded.head()"
   ]
  },
  {
   "cell_type": "code",
   "execution_count": null,
   "id": "ae663ab6",
   "metadata": {},
   "outputs": [],
   "source": [
    "y= numerical['total_claim_amount']\n",
    "y.head()"
   ]
  },
  {
   "cell_type": "code",
   "execution_count": null,
   "id": "61655c06",
   "metadata": {},
   "outputs": [],
   "source": [
    "from sklearn.model_selection import train_test_split\n",
    "X_train, X_test, y_train, y_test = train_test_split(X, y, test_size=0.3, random_state=42)"
   ]
  },
  {
   "cell_type": "code",
   "execution_count": null,
   "id": "b587392e",
   "metadata": {},
   "outputs": [],
   "source": [
    "print(X_train.shape)\n",
    "print(X_test.shape)\n",
    "print(y_train.shape)\n",
    "print(y_test.shape)"
   ]
  },
  {
   "cell_type": "code",
   "execution_count": null,
   "id": "2651be19",
   "metadata": {},
   "outputs": [],
   "source": [
    "X_train.head()"
   ]
  },
  {
   "cell_type": "code",
   "execution_count": null,
   "id": "0752d90f",
   "metadata": {},
   "outputs": [],
   "source": [
    "y_train.head()"
   ]
  },
  {
   "cell_type": "code",
   "execution_count": null,
   "id": "7a889eef",
   "metadata": {},
   "outputs": [],
   "source": [
    "lm = linear_model.LinearRegression()\n",
    "lm.fit(X_train,y_train)"
   ]
  },
  {
   "cell_type": "code",
   "execution_count": null,
   "id": "452fe5bf",
   "metadata": {},
   "outputs": [],
   "source": [
    "predictions = lm.predict(X_train)\n",
    "r2_score(y_train, predictions)\n"
   ]
  },
  {
   "cell_type": "code",
   "execution_count": null,
   "id": "65e95b6e",
   "metadata": {},
   "outputs": [],
   "source": [
    "predictions_test = lm.predict(X_test)\n",
    "r2_score(y_test, predictions_test)\n",
    "#R2 measures the proportion of the variance in the dependent variable\n",
    "#It ranges from 0 to 1, a higher R2 value indicates that the model fits the data better. This model is closer to 0 than 1, so its not a good model"
   ]
  },
  {
   "cell_type": "code",
   "execution_count": null,
   "id": "06b19773",
   "metadata": {},
   "outputs": [],
   "source": [
    "y_test[:5]"
   ]
  },
  {
   "cell_type": "code",
   "execution_count": null,
   "id": "e9f40940",
   "metadata": {},
   "outputs": [],
   "source": [
    "predictions_test[:5]"
   ]
  },
  {
   "cell_type": "code",
   "execution_count": null,
   "id": "f4db7cb7",
   "metadata": {},
   "outputs": [],
   "source": [
    "# In this heatmap we cannot see a strong correlation so we didn't dropp any variable the r2, mse, rmse and mae values are the same\n",
    "#If we had a highly correlated variable (positive or negative) in the heatmap we would drop it and the  r2, mse, rmse and mae values would be better"
   ]
  },
  {
   "cell_type": "code",
   "execution_count": null,
   "id": "183df84d",
   "metadata": {},
   "outputs": [],
   "source": [
    "#use the transformation on numerical columns which align it more towards a normal distribution\n",
    "#from scipy import stats\n",
    "#data[] = stats.boxcox(data[][0])"
   ]
  },
  {
   "cell_type": "code",
   "execution_count": null,
   "id": "01c48cb5",
   "metadata": {},
   "outputs": [],
   "source": []
  },
  {
   "cell_type": "code",
   "execution_count": null,
   "id": "bcb52904",
   "metadata": {},
   "outputs": [],
   "source": []
  },
  {
   "cell_type": "code",
   "execution_count": null,
   "id": "c5773ec1",
   "metadata": {},
   "outputs": [],
   "source": []
  },
  {
   "cell_type": "code",
   "execution_count": null,
   "id": "9a4cd18f",
   "metadata": {},
   "outputs": [],
   "source": []
  },
  {
   "cell_type": "code",
   "execution_count": null,
   "id": "106d4b5e",
   "metadata": {},
   "outputs": [],
   "source": []
  }
 ],
 "metadata": {
  "colab": {
   "provenance": []
  },
  "kernelspec": {
   "display_name": "Python 3 (ipykernel)",
   "language": "python",
   "name": "python3"
  },
  "language_info": {
   "codemirror_mode": {
    "name": "ipython",
    "version": 3
   },
   "file_extension": ".py",
   "mimetype": "text/x-python",
   "name": "python",
   "nbconvert_exporter": "python",
   "pygments_lexer": "ipython3",
   "version": "3.11.4"
  }
 },
 "nbformat": 4,
 "nbformat_minor": 5
}
